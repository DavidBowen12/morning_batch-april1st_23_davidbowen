{
 "cells": [
  {
   "cell_type": "markdown",
   "id": "d6f55107",
   "metadata": {},
   "source": [
    "## getting the average number of marks using for loops"
   ]
  },
  {
   "cell_type": "markdown",
   "id": "b1701a68",
   "metadata": {},
   "source": [
    "#### method 1"
   ]
  },
  {
   "cell_type": "code",
   "execution_count": 27,
   "id": "c6d59b1d",
   "metadata": {},
   "outputs": [],
   "source": [
    "marks = [81,83,67,54,78]"
   ]
  },
  {
   "cell_type": "code",
   "execution_count": 28,
   "id": "9b84c925",
   "metadata": {},
   "outputs": [
    {
     "name": "stdout",
     "output_type": "stream",
     "text": [
      "number of students in batch:  5\n"
     ]
    }
   ],
   "source": [
    "num_of_students = len(marks)\n",
    "print(\"number of students in batch: \", num_of_students)"
   ]
  },
  {
   "cell_type": "code",
   "execution_count": 29,
   "id": "eb6a8aff",
   "metadata": {},
   "outputs": [
    {
     "name": "stdout",
     "output_type": "stream",
     "text": [
      "total marks:  363\n"
     ]
    }
   ],
   "source": [
    "sum_of_marks = marks[0]+marks[1]+marks[2]+marks[3]+marks[4]\n",
    "print(\"total marks: \", sum_of_marks)"
   ]
  },
  {
   "cell_type": "code",
   "execution_count": 30,
   "id": "25a7c3e0",
   "metadata": {},
   "outputs": [
    {
     "name": "stdout",
     "output_type": "stream",
     "text": [
      "average marks attained by batch:  72.6\n"
     ]
    }
   ],
   "source": [
    "avg_marks = sum_of_marks/num_of_students\n",
    "print(\"average marks attained by batch: \", avg_marks)"
   ]
  },
  {
   "cell_type": "markdown",
   "id": "87263c72",
   "metadata": {},
   "source": [
    "#### Method 2: Better way"
   ]
  },
  {
   "cell_type": "markdown",
   "id": "ac2430bc",
   "metadata": {},
   "source": [
    "###### For Loops"
   ]
  },
  {
   "cell_type": "code",
   "execution_count": 32,
   "id": "a308b737",
   "metadata": {},
   "outputs": [
    {
     "name": "stdout",
     "output_type": "stream",
     "text": [
      "new total:  81\n",
      "previous total:  162\n",
      "new total:  245\n",
      "previous total:  328\n",
      "new total:  395\n",
      "previous total:  462\n",
      "new total:  516\n",
      "previous total:  570\n",
      "new total:  648\n",
      "previous total:  726\n"
     ]
    }
   ],
   "source": [
    "# achieving the sum of all marks using a for loop\n",
    "\n",
    "total = 0\n",
    "for student_marks in marks:\n",
    "    total = total + student_marks\n",
    "    print(\"new total: \",total)\n",
    "    total = total + student_marks\n",
    "    print(\"previous total: \",total)"
   ]
  },
  {
   "cell_type": "code",
   "execution_count": 34,
   "id": "5a48aeb7",
   "metadata": {},
   "outputs": [
    {
     "name": "stdout",
     "output_type": "stream",
     "text": [
      "new total:  72.6\n"
     ]
    }
   ],
   "source": [
    "# achieving the average mark using for loop\n",
    "\n",
    "total = 0\n",
    "for student_marks in marks:\n",
    "    total = total +student_marks\n",
    "    \n",
    "print(\"new total: \", total/len(marks))"
   ]
  },
  {
   "cell_type": "markdown",
   "id": "5f7b4337",
   "metadata": {},
   "source": [
    "## Conditional statements\n",
    "\n",
    "#### Write  a code to check whether a nuymber iis greeater then 10, print either is or not greater then 10"
   ]
  },
  {
   "cell_type": "code",
   "execution_count": 38,
   "id": "e3660cae",
   "metadata": {},
   "outputs": [
    {
     "name": "stdout",
     "output_type": "stream",
     "text": [
      "number is greater than 10\n"
     ]
    }
   ],
   "source": [
    "# else if statements example\n",
    "\n",
    "num = 11\n",
    "if num>10:\n",
    "    print(\"number is greater than 10\")\n",
    "else:\n",
    "    print(\"number is not greater than 10\")"
   ]
  },
  {
   "cell_type": "code",
   "execution_count": 42,
   "id": "323cbbb9",
   "metadata": {},
   "outputs": [
    {
     "name": "stdout",
     "output_type": "stream",
     "text": [
      "I will stay inside today\n"
     ]
    }
   ],
   "source": [
    "# additional example of else if statements\n",
    "\n",
    "weather = 'cloudy'\n",
    "if weather == 'Sunny':\n",
    "    print(\"I will go outside today\")\n",
    "else:\n",
    "    print(\"I will stay inside today\")"
   ]
  },
  {
   "cell_type": "code",
   "execution_count": 43,
   "id": "d5f91a20",
   "metadata": {},
   "outputs": [],
   "source": [
    "# write a prgrom thast prints the following message\n",
    "## if i feel energetic i will go for a walk\n",
    "## otherwise i will stay at home and relax"
   ]
  },
  {
   "cell_type": "code",
   "execution_count": 46,
   "id": "fedfa9b0",
   "metadata": {},
   "outputs": [
    {
     "name": "stdout",
     "output_type": "stream",
     "text": [
      "I feel energetic today, I will go for a walk\n"
     ]
    }
   ],
   "source": [
    "# assignment^\n",
    "energy_level = \"high\"\n",
    "if energy_level == \"high\":\n",
    "    print(\"I feel energetic today, I will go for a walk\")\n",
    "else:\n",
    "    print(\"Im feeling sluggish, I think I will stay home and watch netflix\")"
   ]
  },
  {
   "cell_type": "code",
   "execution_count": null,
   "id": "e0ab4762",
   "metadata": {},
   "outputs": [],
   "source": []
  }
 ],
 "metadata": {
  "kernelspec": {
   "display_name": "Python 3 (ipykernel)",
   "language": "python",
   "name": "python3"
  },
  "language_info": {
   "codemirror_mode": {
    "name": "ipython",
    "version": 3
   },
   "file_extension": ".py",
   "mimetype": "text/x-python",
   "name": "python",
   "nbconvert_exporter": "python",
   "pygments_lexer": "ipython3",
   "version": "3.11.2"
  }
 },
 "nbformat": 4,
 "nbformat_minor": 5
}
